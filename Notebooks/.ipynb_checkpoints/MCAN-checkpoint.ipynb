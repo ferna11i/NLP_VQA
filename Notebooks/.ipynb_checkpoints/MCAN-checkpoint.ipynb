{
 "cells": [
  {
   "cell_type": "code",
   "execution_count": 1,
   "metadata": {},
   "outputs": [],
   "source": [
    "import json\n",
    "import os\n",
    "import shutil"
   ]
  },
  {
   "cell_type": "code",
   "execution_count": 2,
   "metadata": {},
   "outputs": [],
   "source": [
    "annot = {}\n",
    "with open(\"../Annotations/v2_mscoco_val2014_annotations.json\", \"r\") as f:\n",
    "    annot = json.load(f)\n",
    "    \n",
    "questions = {}\n",
    "with open(\"../Annotations/v2_OpenEnded_mscoco_val2014_questions.json\", \"r\") as f:\n",
    "    questions = json.load(f)"
   ]
  },
  {
   "cell_type": "code",
   "execution_count": 7,
   "metadata": {},
   "outputs": [
    {
     "name": "stdout",
     "output_type": "stream",
     "text": [
      "214354\n"
     ]
    },
    {
     "data": {
      "text/plain": [
       "{'question_type': 'none of the above',\n",
       " 'multiple_choice_answer': 'down',\n",
       " 'answers': [{'answer': 'down', 'answer_confidence': 'yes', 'answer_id': 1},\n",
       "  {'answer': 'down', 'answer_confidence': 'yes', 'answer_id': 2},\n",
       "  {'answer': 'at table', 'answer_confidence': 'yes', 'answer_id': 3},\n",
       "  {'answer': 'skateboard', 'answer_confidence': 'yes', 'answer_id': 4},\n",
       "  {'answer': 'down', 'answer_confidence': 'yes', 'answer_id': 5},\n",
       "  {'answer': 'table', 'answer_confidence': 'yes', 'answer_id': 6},\n",
       "  {'answer': 'down', 'answer_confidence': 'yes', 'answer_id': 7},\n",
       "  {'answer': 'down', 'answer_confidence': 'yes', 'answer_id': 8},\n",
       "  {'answer': 'down', 'answer_confidence': 'yes', 'answer_id': 9},\n",
       "  {'answer': 'down', 'answer_confidence': 'yes', 'answer_id': 10}],\n",
       " 'image_id': 262148,\n",
       " 'answer_type': 'other',\n",
       " 'question_id': 262148000}"
      ]
     },
     "execution_count": 7,
     "metadata": {},
     "output_type": "execute_result"
    }
   ],
   "source": [
    "print(len(annot[\"annotations\"]))\n",
    "# annot.keys()\n",
    "# questions[\"questions\"][0]\n",
    "\n",
    "annot[\"annotations\"][0]"
   ]
  },
  {
   "cell_type": "code",
   "execution_count": 29,
   "metadata": {},
   "outputs": [
    {
     "data": {
      "text/plain": [
       "40500"
      ]
     },
     "execution_count": 29,
     "metadata": {},
     "output_type": "execute_result"
    }
   ],
   "source": [
    "img_names = os.listdir(\"../val2014\")\n",
    "len(img_names)"
   ]
  },
  {
   "cell_type": "code",
   "execution_count": 32,
   "metadata": {},
   "outputs": [],
   "source": [
    "for name in img_names[:10]:\n",
    "    shutil.move(\"../val2014/\" + name, \"../vqa_val_dataset\")"
   ]
  },
  {
   "cell_type": "code",
   "execution_count": 35,
   "metadata": {},
   "outputs": [
    {
     "name": "stdout",
     "output_type": "stream",
     "text": [
      "10\n",
      "10\n"
     ]
    }
   ],
   "source": [
    "img_names = os.listdir(\"../vqa_val_dataset\")\n",
    "print(len(img_names))\n",
    "\n",
    "img_ids = [int(x.split(\"COCO_val2014_\")[1][:-4]) for x in img_names]\n",
    "print(len(img_ids))"
   ]
  },
  {
   "cell_type": "code",
   "execution_count": 41,
   "metadata": {},
   "outputs": [
    {
     "data": {
      "text/plain": [
       "[42, 73, 74, 133, 136, 139, 143, 164, 192, 196]"
      ]
     },
     "execution_count": 41,
     "metadata": {},
     "output_type": "execute_result"
    }
   ],
   "source": [
    "img_ids"
   ]
  },
  {
   "cell_type": "code",
   "execution_count": 38,
   "metadata": {},
   "outputs": [],
   "source": [
    "img_questions = []\n",
    "for question in questions[\"questions\"]:\n",
    "    for id in img_ids:\n",
    "        if question[\"image_id\"] == id:\n",
    "            img_questions.append(question)"
   ]
  },
  {
   "cell_type": "code",
   "execution_count": 40,
   "metadata": {},
   "outputs": [
    {
     "data": {
      "text/plain": [
       "[{'image_id': 42,\n",
       "  'question': 'What color are the gym shoes?',\n",
       "  'question_id': 42000},\n",
       " {'image_id': 42,\n",
       "  'question': 'Is there a red sandal here?',\n",
       "  'question_id': 42001},\n",
       " {'image_id': 42,\n",
       "  'question': 'What color is the flip flop?',\n",
       "  'question_id': 42002},\n",
       " {'image_id': 74,\n",
       "  'question': 'Does this dog have a collar?',\n",
       "  'question_id': 74000},\n",
       " {'image_id': 74,\n",
       "  'question': 'Where is the dog laying?',\n",
       "  'question_id': 74001},\n",
       " {'image_id': 74, 'question': 'What is the dog doing?', 'question_id': 74002},\n",
       " {'image_id': 133, 'question': 'What color is lamp?', 'question_id': 133000},\n",
       " {'image_id': 133, 'question': 'Is this a child room?', 'question_id': 133001},\n",
       " {'image_id': 133,\n",
       "  'question': 'What size mattress would you need for this bed?',\n",
       "  'question_id': 133002},\n",
       " {'image_id': 136, 'question': 'Is this in a museum?', 'question_id': 136000},\n",
       " {'image_id': 136,\n",
       "  'question': 'How many animals are in the picture?',\n",
       "  'question_id': 136001},\n",
       " {'image_id': 136,\n",
       "  'question': 'What kind of animal is shown?',\n",
       "  'question_id': 136002},\n",
       " {'image_id': 139,\n",
       "  'question': 'What is the woman in the room doing?',\n",
       "  'question_id': 139000},\n",
       " {'image_id': 139,\n",
       "  'question': 'How many yellow vases?',\n",
       "  'question_id': 139001},\n",
       " {'image_id': 139,\n",
       "  'question': 'What color is the floor?',\n",
       "  'question_id': 139002},\n",
       " {'image_id': 139,\n",
       "  'question': 'What color is the flower?',\n",
       "  'question_id': 139003},\n",
       " {'image_id': 143,\n",
       "  'question': \"What color is the tip of the birds' tails?\",\n",
       "  'question_id': 143000},\n",
       " {'image_id': 143,\n",
       "  'question': 'How many birds are in the tree?',\n",
       "  'question_id': 143001},\n",
       " {'image_id': 143,\n",
       "  'question': 'Who many birds are black?',\n",
       "  'question_id': 143002},\n",
       " {'image_id': 164,\n",
       "  'question': 'How many paper towel rolls?',\n",
       "  'question_id': 164000},\n",
       " {'image_id': 164,\n",
       "  'question': 'What is the color of the refrigerator?',\n",
       "  'question_id': 164001},\n",
       " {'image_id': 164, 'question': 'Is the light on?', 'question_id': 164002},\n",
       " {'image_id': 164,\n",
       "  'question': 'What color is the wall?',\n",
       "  'question_id': 164003},\n",
       " {'image_id': 192,\n",
       "  'question': 'What sport is being played?',\n",
       "  'question_id': 192000},\n",
       " {'image_id': 192,\n",
       "  'question': 'Is the catcher wearing safety gear?',\n",
       "  'question_id': 192001},\n",
       " {'image_id': 192,\n",
       "  'question': 'What is the name of the teams?',\n",
       "  'question_id': 192002},\n",
       " {'image_id': 196,\n",
       "  'question': 'What is the yellow food?',\n",
       "  'question_id': 196000},\n",
       " {'image_id': 196,\n",
       "  'question': 'Are there lots of healthy options on the table?',\n",
       "  'question_id': 196001},\n",
       " {'image_id': 196, 'question': 'How many containers?', 'question_id': 196002},\n",
       " {'image_id': 196,\n",
       "  'question': 'How many dishes of food are in the picture?',\n",
       "  'question_id': 196003},\n",
       " {'image_id': 196,\n",
       "  'question': 'Is this going to be a feast?',\n",
       "  'question_id': 196004},\n",
       " {'image_id': 73,\n",
       "  'question': 'What is the license number?',\n",
       "  'question_id': 73000},\n",
       " {'image_id': 73,\n",
       "  'question': 'Is this a motorcycle or bike?',\n",
       "  'question_id': 73001},\n",
       " {'image_id': 73, 'question': 'What color is the bike?', 'question_id': 73002},\n",
       " {'image_id': 73,\n",
       "  'question': 'What letter and 3 numbers are on the tag?',\n",
       "  'question_id': 73003}]"
      ]
     },
     "execution_count": 40,
     "metadata": {},
     "output_type": "execute_result"
    }
   ],
   "source": [
    "img_questions"
   ]
  }
 ],
 "metadata": {
  "kernelspec": {
   "display_name": "Python 3",
   "language": "python",
   "name": "python3"
  },
  "language_info": {
   "codemirror_mode": {
    "name": "ipython",
    "version": 3
   },
   "file_extension": ".py",
   "mimetype": "text/x-python",
   "name": "python",
   "nbconvert_exporter": "python",
   "pygments_lexer": "ipython3",
   "version": "3.7.6"
  }
 },
 "nbformat": 4,
 "nbformat_minor": 4
}
